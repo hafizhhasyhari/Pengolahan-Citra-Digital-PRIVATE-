import cv2  # Mengimpor OpenCV untuk manipulasi gambar
import numpy as np  # Mengimpor NumPy untuk operasi numerik

def main():
    # (a) Memulai sesi program (dalam Python, tidak perlu eksplisit, hanya menjalankan fungsi utama)
    print("Memulai sesi program...")
    
    # (b) Membaca file gambar sumber dalam format grayscale
    image_path = "input_image.png"  # Nama file gambar yang akan dibaca
    source_image = cv2.imread(image_path, cv2.IMREAD_GRAYSCALE)  # Membaca gambar dalam mode grayscale
    
    if source_image is None:
        print("Gagal membaca gambar. Periksa apakah file tersedia.")
        return
    
    print("Gambar sumber berhasil dibaca.")
    
    # (c) Mengalokasikan gambar tujuan (ukuran sama dengan gambar sumber)
    destination_image = np.zeros_like(source_image, dtype=np.uint8)  # Gambar kosong dengan ukuran yang sama
    
    # (d) Tidak diperlukan langkah tambahan karena gambar sudah dibaca sebelumnya
    
    # (e) Membuka jendela tampilan dan menampilkan gambar sumber
    cv2.imshow("Gambar Sumber", source_image)  # Menampilkan gambar asli
    
    # (f) Membuat gambar komplemen (invers warna)
    # Komplemen dari citra grayscale didapat dengan mengurangi nilai setiap piksel dari 255
    destination_image = 255 - source_image  # Invers dari setiap piksel
    
    # Alternatif: Bisa juga menggunakan OpenCV function `cv2.bitwise_not(source_image)`
    # Namun, metode manual lebih eksplisit dan tidak bergantung pada operasi bitwise
    
    print("Gambar komplemen telah dibuat.")
    
    # (g) Membuka jendela kedua untuk menampilkan gambar komplemen
    cv2.imshow("Gambar Komplementer", destination_image)  # Menampilkan hasil komplemen
    
    # Menunggu tombol ditekan untuk menutup jendela
    cv2.waitKey(0)  # Menunggu input dari keyboard
    
    # (h) Menutup sesi program dengan menutup semua jendela tampilan
    cv2.destroyAllWindows()
    print("Sesi program selesai.")
    
if __name__ == "__main__":
    main()  # Menjalankan fungsi utama
