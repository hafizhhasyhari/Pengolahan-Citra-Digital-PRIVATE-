import numpy as np
import cv2
import matplotlib.pyplot as plt

# (a) Load and display the source monochrome image (grayscale)
image = cv2.imread("input_image.png", cv2.IMREAD_GRAYSCALE)  # Pastikan file gambar tersedia
if image is None:
    raise FileNotFoundError("Gambar tidak ditemukan. Pastikan 'input_image.png' ada di direktori.")
plt.figure(figsize=(6,6))
plt.title("Source Image")
plt.imshow(image, cmap='gray')
plt.axis("off")
plt.show()

# (b) Scale the image to unit range (0 to 1)
image = image.astype(np.float32) / 255.0

# (c) Perform 2D Fourier Transform of the source image
image_fft = np.fft.fft2(image)

# (d) Display the clipped magnitude of the Fourier transform
magnitude_spectrum = np.abs(np.fft.fftshift(image_fft))  # Pindahkan frekuensi nol ke tengah
plt.figure(figsize=(6,6))
plt.title("Magnitude Spectrum of Source Image")
plt.imshow(np.log1p(magnitude_spectrum), cmap='gray')  # Log transform untuk visibilitas
plt.axis("off")
plt.show()

# (e) Allocate an 11x11 impulse response array
impulse_response = np.ones((11, 11), dtype=np.float32) / 121  # Normalisasi agar tidak mengubah kecerahan

# (f) Convert impulse response to image and embed in zero-background image
impulse_image = np.zeros_like(image)
center = (impulse_image.shape[0]//2, impulse_image.shape[1]//2)
impulse_image[center[0]-5:center[0]+6, center[1]-5:center[1]+6] = impulse_response  # Embed filter di tengah

# (g) Perform 2D Fourier Transform of the impulse image
impulse_fft = np.fft.fft2(impulse_image)

# (h) Display the clipped magnitude of the impulse Fourier transform
magnitude_spectrum_impulse = np.abs(np.fft.fftshift(impulse_fft))
plt.figure(figsize=(6,6))
plt.title("Magnitude Spectrum of Impulse Response")
plt.imshow(np.log1p(magnitude_spectrum_impulse), cmap='gray')
plt.axis("off")
plt.show()

# (i) Multiply the source and impulse Fourier transforms (convolution in frequency domain)
filtered_fft = image_fft * impulse_fft

# (j) Perform inverse 2D Fourier Transform to get the final filtered image
filtered_image = np.fft.ifft2(filtered_fft).real  # Hanya ambil bagian real

# (k) Display the destination image
plt.figure(figsize=(6,6))
plt.title("Filtered Image (FFT Convolution)")
plt.imshow(filtered_image, cmap='gray')
plt.axis("off")
plt.show()

# (l) Print erroneous pixels along the mid image row (difference from original)
mid_row = image.shape[0] // 2
erroneous_pixels = np.abs(image[mid_row, :] - filtered_image[mid_row, :])
print("Erroneous Pixels along Mid Row:")
print(erroneous_pixels)
